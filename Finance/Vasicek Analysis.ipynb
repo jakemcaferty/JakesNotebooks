{
 "cells": [
  {
   "cell_type": "markdown",
   "metadata": {},
   "source": [
    "# Analyzing The Vasicek Model"
   ]
  },
  {
   "cell_type": "code",
   "execution_count": 1,
   "metadata": {},
   "outputs": [],
   "source": [
    "import numpy as np\n",
    "from scipy.stats import norm, lognorm"
   ]
  },
  {
   "cell_type": "markdown",
   "metadata": {},
   "source": [
    "## The Ornstein Uhlenbeck Model\n",
    "The general Ornstein-Uhlenbeck model is a mean reverting Stochatic Differential Equation typicially written in the form seen below:\n",
    "\n",
    "$dX_t = \\theta(\\mu - X_t)dt + \\sigma dW_t$\n",
    "\n",
    "The model has several applications in the sciences (evolutionary biology and physics) as well as finance through the **Vasicek Model** described below.\n",
    "\n",
    "## The Vasicek model.\n",
    "The vasicek model is a common interest rate model for pricing interest rate securities.  The model is a very simple Ornstein Uhlenbeck process where $r_t$ is the short rate and $\\bar{r}$ is the average of the historical short rate.\n",
    "\n",
    "$dr_t = \\gamma(\\bar{r} - r_t)dt + \\sigma dW_t$\n",
    "\n",
    "### Properties of Vasicek Model:\n",
    "\n",
    "$r_t = r_0e^{-\\gamma t} + \\bar{r}(1 - e^{-\\gamma t}) + \\sigma \\int_{0}^{t} e^{-\\gamma (t-s)} dWs$\n",
    "\n",
    "$E[r_t|r_0] = r_0e^{-\\gamma t} + \\bar{r}(1 - e^{-\\gamma t})$\n",
    "\n",
    "$Var(r_t) = \\frac{\\sigma^2}{2\\gamma}(1 - e^{-2\\gamma t})$\n",
    "\n",
    "* Short rate is normally distributed with above mean and variance between time 0 and t\n",
    "\n",
    "### Pros of the Vasicek Model\n",
    "* Mean Reverting\n",
    "* Closed form pricing and expectation\n",
    "* Relatively simple model to understand\n",
    "\n",
    "### Cons of Vasicek Model:\n",
    "* All rates in term structure are perfectly correlated (true for all 1 factor models)\n",
    "* Constant volatility\n",
    "* Allows Arbitrage\n",
    "* Possibility of negative interest rates\n",
    "\n",
    "### Extensions of Vasicek\n",
    "* The Ho Lee and Hull White models are essentially extensions of the Vasicek model, but have the added advantage of being able to replicate term structures exactly with additional free parameters ($\\theta_t$ and  $\\sigma_t$).\n",
    "* Hull white is the most flexible, but can be improved by using a two factor model that accounts for level and curvature of term structure\n",
    "* To further improve Hull White, you can add a 3rd factor for the slope of the term structure"
   ]
  },
  {
   "cell_type": "code",
   "execution_count": 2,
   "metadata": {},
   "outputs": [],
   "source": [
    "def vasicek_expectation(gamma, t, r_bar, r_0):\n",
    "    return r_0*np.exp(-gamma*t) + r_bar*(1 - np.exp(-gamma*t))\n",
    "\n",
    "def vasicek_variance (sigma, gamma, t):\n",
    "    return sigma**2/(2*gamma)*(1-np.exp(-2*gamma*t))"
   ]
  },
  {
   "cell_type": "markdown",
   "metadata": {},
   "source": [
    "## Sample Vasicek Model Calculations\n",
    "Suppose short rates follow the vasicek model with the average rate is long run average rate is 4% and the reversion speed $\\gamma = 0.25$.  If the current rate is 2%, what is the expected short rate in 5 years?"
   ]
  },
  {
   "cell_type": "code",
   "execution_count": 3,
   "metadata": {},
   "outputs": [
    {
     "output_type": "stream",
     "name": "stdout",
     "text": [
      "Expected rate in 5 years: 0.034269904062796196\n"
     ]
    }
   ],
   "source": [
    "gamma = 0.25\n",
    "r_bar = 0.04\n",
    "r_0 = 0.02\n",
    "t = 5\n",
    "\n",
    "r_t_expectation = vasicek_expectation(gamma, t, r_bar, r_0)\n",
    "\n",
    "print(f\"Expected rate in {t} years: {r_t_expectation}\")"
   ]
  },
  {
   "cell_type": "markdown",
   "metadata": {},
   "source": [
    "Suppose the volatility of the short rate is 5%, what is the variance of the short rate?"
   ]
  },
  {
   "cell_type": "code",
   "execution_count": 4,
   "metadata": {},
   "outputs": [
    {
     "output_type": "stream",
     "name": "stdout",
     "text": [
      "Variance of the rate in 5 years: 0.004589575006880507\n"
     ]
    }
   ],
   "source": [
    "sigma = 0.05\n",
    "\n",
    "r_t_variance = vasicek_variance(sigma, gamma, t)\n",
    "print(f\"Variance of the rate in {t} years: {r_t_variance}\")"
   ]
  },
  {
   "cell_type": "markdown",
   "metadata": {},
   "source": [
    "What is the probability the rate will be negative in 4 years?"
   ]
  },
  {
   "cell_type": "code",
   "execution_count": 5,
   "metadata": {},
   "outputs": [
    {
     "output_type": "execute_result",
     "data": {
      "text/plain": [
       "0.3064789746939356"
      ]
     },
     "metadata": {},
     "execution_count": 5
    }
   ],
   "source": [
    "norm.cdf(-r_t_expectation/r_t_variance ** 0.5)"
   ]
  },
  {
   "cell_type": "markdown",
   "metadata": {},
   "source": [
    "Since $r_5$ is normally distributed with a mean of 0.03427 and variance of 0.004590, the probability of negative interest rates is:\n",
    "\n",
    "$\\Phi(\\frac{0 - 0.03427}{\\sqrt{0.004590}}) = 0.30648$"
   ]
  },
  {
   "cell_type": "markdown",
   "metadata": {},
   "source": [
    "### Vasciek SDE Solution\n",
    "To solve for $r_t$ in the vasicek model:\n",
    "\n",
    "$dr_t = \\gamma(\\bar{r} - r_t)dt + \\sigma dW_t$\n",
    "\n",
    "Let \n",
    "$F_t = r_te^{\\gamma t}$\n",
    "\n",
    "By Itos lemma\n",
    "\n",
    "$dF = (\\frac{\\partial F}{\\partial t} + a_t\\frac{\\partial F}{\\partial r} + \\frac{1}{2}s_t^{2}\\frac{\\partial^2 F}{\\partial r_t})dt + s_tdW_t$\n",
    "\n",
    "$\\frac{\\partial F}{\\partial r} = e^{\\gamma t}$\n",
    "\n",
    "$\\frac{\\partial^2 F}{\\partial r^2} = 0$\n",
    "\n",
    "$\\frac{\\partial F}{\\partial t} = \\gamma r_te^{\\gamma t}$"
   ]
  },
  {
   "cell_type": "markdown",
   "metadata": {},
   "source": [
    "Under Vasicek:\n",
    "\n",
    "$a_t = \\gamma(\\bar{r} - r_t)$ and $s_t = \\sigma$"
   ]
  },
  {
   "cell_type": "markdown",
   "metadata": {},
   "source": [
    "Plugging into Itos Lemma:\n",
    "\n",
    "$d(r_te^{\\gamma t}) = (\\gamma r_te^{\\gamma t} + \\gamma(\\bar{r} - r_t)e^{\\gamma t})dt + e^{\\gamma t}\\sigma dW_t$\n",
    "\n",
    "$d(r_te^{\\gamma t}) = \\gamma e^{\\gamma t}(r_t + (\\bar{r} - r_t))dt + e^{\\gamma t}\\sigma dW_t$\n",
    "\n",
    "$d(r_te^{\\gamma t}) = \\gamma \\bar{r}e^{\\gamma t}dt + e^{\\gamma t}\\sigma dW_t$"
   ]
  },
  {
   "cell_type": "markdown",
   "metadata": {},
   "source": [
    "Integrating both sides from 0 to t, we get:\n",
    "\n",
    "$r_te^{\\gamma t} - r_0 = \\bar{r}(e^{\\gamma t} - 1) + \\sigma \\int_{0}^{t} e^{\\gamma s} dWs$"
   ]
  },
  {
   "cell_type": "markdown",
   "metadata": {},
   "source": [
    "Multiplying both sides by $e^{-\\gamma t}$ and isolating $r_t$ gives us the SDE for the Vasicek model:\n",
    "\n",
    "$r_t = r_0e^{-\\gamma t} + \\bar{r}(1 - e^{-\\gamma t}) + \\sigma \\int_{0}^{t} e^{-\\gamma (t-s)} dWs$"
   ]
  },
  {
   "cell_type": "code",
   "execution_count": 6,
   "metadata": {},
   "outputs": [
    {
     "output_type": "stream",
     "name": "stdout",
     "text": [
      "0.040552668945179705\n"
     ]
    }
   ],
   "source": [
    "print(vasicek_expectation(0.15, 5, 0.05, 0.03))"
   ]
  }
 ],
 "metadata": {
  "kernelspec": {
   "display_name": "Python 3",
   "language": "python",
   "name": "python3"
  },
  "language_info": {
   "codemirror_mode": {
    "name": "ipython",
    "version": 3
   },
   "file_extension": ".py",
   "mimetype": "text/x-python",
   "name": "python",
   "nbconvert_exporter": "python",
   "pygments_lexer": "ipython3",
   "version": "3.7.1"
  }
 },
 "nbformat": 4,
 "nbformat_minor": 2
}